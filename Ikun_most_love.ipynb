{
 "cells": [
  {
   "cell_type": "code",
   "execution_count": 99,
   "id": "c301424b",
   "metadata": {},
   "outputs": [],
   "source": [
    "import numpy as np \n",
    "from PIL import Image\n",
    "import matplotlib.pyplot as plt\n",
    "\n",
    "length = 532\n",
    "width = 349"
   ]
  },
  {
   "cell_type": "code",
   "execution_count": 100,
   "id": "0560116b",
   "metadata": {},
   "outputs": [],
   "source": [
    "# 定义字符集，根据需要自定义\n",
    "char_set = \"❶❺❽❺\"\n",
    "# 加载 GIF 文件\n",
    "gif_path = \"D:/Ikun/ikun.gif\"#注意放对位置，或者你直接改地址\n",
    "gif = Image.open(gif_path)\n",
    "# 遍历每一帧\n",
    "frames = []\n",
    "for frame_index in range(64):\n",
    "    # 选择当前帧\n",
    "    gif.seek(frame_index)\n",
    "    \n",
    "    # 将图像转换为灰度\n",
    "    gray_frame = gif.convert(\"L\")\n",
    "    \n",
    "    # 将灰度图像转换为灰度矩阵\n",
    "    gray_matrix = np.array(gray_frame)\n",
    "    \n",
    "    # 处理当前帧的灰度矩阵，例如进行字符图形转换\n",
    "    # 定义一个空字符串变量来存储字符图形\n",
    "    char_image = \"\"\n",
    "    \n",
    "    # 遍历灰度矩阵的每个像素\n",
    "    for row in gray_matrix:\n",
    "        for pixel in row:\n",
    "            # 根据灰度值选择对应的字符\n",
    "            # 计算灰度值在字符集中的索引，将灰度值映射到字符集的范围内\n",
    "            index = int(pixel // (255 // len(char_set)))\n",
    "            \n",
    "            # 将对应的字符添加到字符图形中\n",
    "            char_image += char_set[index]\n",
    "        \n",
    "        char_image += \"\\n\"  # 在行末添加换行符\n",
    "    \n",
    "    # 将当前字符图形添加到帧列表中\n",
    "    frames.append(char_image)\n",
    "\n",
    "# 打印第一帧的字符图形\n",
    "#print(frames[0])"
   ]
  },
  {
   "cell_type": "code",
   "execution_count": 104,
   "id": "35798c8b",
   "metadata": {},
   "outputs": [
    {
     "name": "stdout",
     "output_type": "stream",
     "text": [
      "字符图形已保存到文件： D:/Ikun/char_image.txt\n"
     ]
    }
   ],
   "source": [
    "# 定义要保存的文件路径\n",
    "output_file =  \"D:/Ikun/char_image.txt\"\n",
    "\n",
    "# 将字符图形写入到文件中\n",
    "for i in frames:\n",
    "    with open(output_file, \"a+\",encoding=\"utf-8\") as file:\n",
    "        file.write(i)\n",
    "print(\"字符图形已保存到文件：\", output_file)"
   ]
  },
  {
   "cell_type": "code",
   "execution_count": 105,
   "id": "51cd2b83",
   "metadata": {},
   "outputs": [],
   "source": [
    "import tkinter as tk\n",
    "\n",
    "def show_file_content():\n",
    "    # 定义每批次输出的行数\n",
    "    batch_size = 349#行像素\n",
    "\n",
    "    # 定义文件路径\n",
    "    file_path = \"D:/Ikun/char_image.txt\"\n",
    "\n",
    "    # 创建新的窗口\n",
    "    window = tk.Tk()\n",
    "\n",
    "    # 设置窗口全屏显示\n",
    "    window.attributes('-fullscreen', True)\n",
    "\n",
    "    # 创建文本框\n",
    "    text_box = tk.Text(window, font=(\"Arial\", 1))\n",
    "    text_box.pack(fill=tk.BOTH, expand=True)\n",
    "\n",
    "    # 读取文件内容\n",
    "    with open(file_path, \"r\", encoding=\"utf-8\") as file:\n",
    "        content = file.readlines()\n",
    "    cnt = 0\n",
    "    while 1:\n",
    "        cnt+=1\n",
    "        if cnt>=2:\n",
    "            break\n",
    "        # 循环输出每批次的行数\n",
    "        for i in range(0, len(content), batch_size):\n",
    "            # 获取当前批次的行数内容\n",
    "            batch = content[i:i+batch_size]\n",
    "\n",
    "            # 将当前批次的内容添加到文本框中\n",
    "            text_box.insert(tk.END, \"\".join(batch))\n",
    "            text_box.see(tk.END)  # 滚动到文本框的末尾\n",
    "            text_box.update()  # 更新文本框的显示\n",
    "\n",
    "            # 删除已经显示的内容\n",
    "            text_box.delete(\"1.0\", tk.END)\n",
    "\n",
    "            # 等待一段时间再继续显示下一个批次的内容\n",
    "            window.after(24)  # 暂停1秒\n",
    "    window.after(500, window.destroy)\n",
    "    # 进入窗口的主循环\n",
    "    window.mainloop()\n",
    "\n",
    "# 调用函数显示文件内容\n",
    "show_file_content()"
   ]
  },
  {
   "cell_type": "code",
   "execution_count": null,
   "id": "940cdd6e",
   "metadata": {},
   "outputs": [],
   "source": []
  }
 ],
 "metadata": {
  "kernelspec": {
   "display_name": "Python 3 (ipykernel)",
   "language": "python",
   "name": "python3"
  },
  "language_info": {
   "codemirror_mode": {
    "name": "ipython",
    "version": 3
   },
   "file_extension": ".py",
   "mimetype": "text/x-python",
   "name": "python",
   "nbconvert_exporter": "python",
   "pygments_lexer": "ipython3",
   "version": "3.10.9"
  }
 },
 "nbformat": 4,
 "nbformat_minor": 5
}
